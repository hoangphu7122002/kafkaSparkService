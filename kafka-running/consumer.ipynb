{
 "cells": [
  {
   "cell_type": "code",
   "execution_count": 2,
   "id": "61097bbb",
   "metadata": {},
   "outputs": [],
   "source": [
    "from kafka import KafkaConsumer\n",
    "from json import loads\n",
    "import json"
   ]
  },
  {
   "cell_type": "code",
   "execution_count": 3,
   "id": "155bfde7",
   "metadata": {},
   "outputs": [],
   "source": [
    "consumer = KafkaConsumer('output-test',bootstrap_servers=['localhost:9092'],api_version=(0,10,1))"
   ]
  },
  {
   "cell_type": "code",
   "execution_count": null,
   "id": "f5d2b7b1",
   "metadata": {},
   "outputs": [],
   "source": [
    "i = 0\n",
    "\n",
    "list_data = []\n",
    "\n",
    "for message in consumer:\n",
    "    print(message.value)"
   ]
  },
  {
   "cell_type": "code",
   "execution_count": 15,
   "id": "83cfbb32",
   "metadata": {},
   "outputs": [
    {
     "data": {
      "text/plain": [
       "b'{\"_id\": {\"$oid\": \"624e986afcd464a9afb74042\"}, \"user_name\": \"Nh\\\\u1eb7t\", \"time_post\": \"2 years ago\", \"comment_post\": \"Nh\\\\u1ea1c c\\\\u1ee7a Th\\\\u1ecbnh Suy giai \\\\u0111i\\\\u1ec7u b\\\\u1eaft tai ngay t\\\\u1eeb l\\\\u1ea7n \\\\u0111\\\\u1ea7u nghe, nghi\\\\u1ec7n m\\\\u1ea5t r\\\\u1ed3i :(\", \"num_like\": \"1.4K\", \"num_subcomments\": \"8\"}'"
      ]
     },
     "execution_count": 15,
     "metadata": {},
     "output_type": "execute_result"
    }
   ],
   "source": [
    "list_data[0]"
   ]
  },
  {
   "cell_type": "code",
   "execution_count": 16,
   "id": "140086f8",
   "metadata": {},
   "outputs": [
    {
     "data": {
      "text/plain": [
       "'{\"_id\": {\"$oid\": \"624e986afcd464a9afb74042\"}, \"user_name\": \"Nh\\\\u1eb7t\", \"time_post\": \"2 years ago\", \"comment_post\": \"Nh\\\\u1ea1c c\\\\u1ee7a Th\\\\u1ecbnh Suy giai \\\\u0111i\\\\u1ec7u b\\\\u1eaft tai ngay t\\\\u1eeb l\\\\u1ea7n \\\\u0111\\\\u1ea7u nghe, nghi\\\\u1ec7n m\\\\u1ea5t r\\\\u1ed3i :(\", \"num_like\": \"1.4K\", \"num_subcomments\": \"8\"}'"
      ]
     },
     "execution_count": 16,
     "metadata": {},
     "output_type": "execute_result"
    }
   ],
   "source": [
    "list_data[0].decode(\"utf-8\")"
   ]
  },
  {
   "cell_type": "code",
   "execution_count": null,
   "id": "530fbd8f",
   "metadata": {},
   "outputs": [],
   "source": []
  }
 ],
 "metadata": {
  "kernelspec": {
   "display_name": "Python 3 (ipykernel)",
   "language": "python",
   "name": "python3"
  },
  "language_info": {
   "codemirror_mode": {
    "name": "ipython",
    "version": 3
   },
   "file_extension": ".py",
   "mimetype": "text/x-python",
   "name": "python",
   "nbconvert_exporter": "python",
   "pygments_lexer": "ipython3",
   "version": "3.9.7"
  }
 },
 "nbformat": 4,
 "nbformat_minor": 5
}
